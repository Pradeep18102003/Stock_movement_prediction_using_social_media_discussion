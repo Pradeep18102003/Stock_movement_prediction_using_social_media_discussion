{
  "cells": [
    {
      "cell_type": "code",
      "execution_count": 31,
      "metadata": {
        "id": "QYKa7sQ4lQxG"
      },
      "outputs": [],
      "source": [
        "import pandas as pd\n",
        "import numpy as np\n",
        "import matplotlib.pyplot as plt\n",
        "import seaborn as sns\n"
      ]
    },
    {
      "cell_type": "code",
      "execution_count": 32,
      "metadata": {},
      "outputs": [],
      "source": [
        "from dotenv import load_dotenv\n",
        "import os"
      ]
    },
    {
      "cell_type": "code",
      "execution_count": null,
      "metadata": {
        "colab": {
          "base_uri": "https://localhost:8080/",
          "height": 932
        },
        "id": "kS_KjCUhlNq9",
        "outputId": "468326f3-571c-45bc-efd9-c42fa28cf924"
      },
      "outputs": [],
      "source": [
        "from dotenv import load_dotenv\n",
        "import os\n",
        "import praw\n",
        "from datetime import datetime\n",
        "import pandas as pd  # Missing pandas import\n",
        "\n",
        "# Load environment variables from .env file\n",
        "load_dotenv()\n",
        "\n",
        "# Initialize the Reddit instance\n",
        "reddit = praw.Reddit(\n",
        "    client_id=os.getenv('CLIENT_ID'),\n",
        "    client_secret=os.getenv('CLIENT_SECRET'),\n",
        "    password=os.getenv('PASSWORD'),\n",
        "    user_agent=os.getenv('USER_AGENT'),\n",
        "    username=os.getenv('USERNAME'),\n",
        ")\n",
        "\n",
        "# Function to convert UTC timestamp to a readable date\n",
        "def convert_utc_to_date(timestamp):\n",
        "    return datetime.utcfromtimestamp(timestamp).strftime('%Y-%m-%d')\n",
        "\n",
        "# Specify the subreddit\n",
        "subreddit = reddit.subreddit('stocks')\n",
        "\n",
        "# Fetching posts from the subreddit\n",
        "hot_stocks = subreddit.new(limit=100)\n",
        "\n",
        "# List to store post data\n",
        "posts = []\n",
        "\n",
        "for submission in hot_stocks:\n",
        "    post_data = {\n",
        "        'title': submission.title,\n",
        "        'upvotes': submission.score,\n",
        "        'created': convert_utc_to_date(submission.created_utc),\n",
        "        'num_comments': submission.num_comments,\n",
        "        'content': submission.selftext if submission.selftext else 'No content',\n",
        "    }\n",
        "    posts.append(post_data)\n",
        "\n",
        "# Create DataFrame from posts\n",
        "reddit_df = pd.DataFrame(posts)\n"
      ]
    },
    {
      "cell_type": "code",
      "execution_count": 3,
      "metadata": {
        "colab": {
          "base_uri": "https://localhost:8080/"
        },
        "id": "jDeMA1P1ldQj",
        "outputId": "9f80d56e-be4d-4496-f263-311111f6518a"
      },
      "outputs": [
        {
          "data": {
            "text/plain": [
              "(926, 5)"
            ]
          },
          "execution_count": 3,
          "metadata": {},
          "output_type": "execute_result"
        }
      ],
      "source": [
        "reddit_df.shape"
      ]
    },
    {
      "cell_type": "code",
      "execution_count": 4,
      "metadata": {
        "colab": {
          "base_uri": "https://localhost:8080/",
          "height": 458
        },
        "id": "oI8mt5RWln8c",
        "outputId": "d10ea94f-9be1-464c-a0ba-358293b42ab6"
      },
      "outputs": [
        {
          "data": {
            "text/plain": [
              "0      The meme stock scheduled posts will now run we...\n",
              "1      Many companies offer product perks to owners o...\n",
              "2      Evolution AB (EVVTY) is a leading player in th...\n",
              "3      Amazon 18%   \\n  \\nI really believe it´s unmat...\n",
              "4      This is the weekend edition of our stickied di...\n",
              "                             ...                        \n",
              "921    # [https://www.washingtonpost.com/transportati...\n",
              "922    First off. I rarely eat out. I am a health fre...\n",
              "923    Tesla (NASDAQ:TSLA) stock has been downgraded ...\n",
              "924    LLY and NVO have been hit hard over the last c...\n",
              "925    Seems like if I walk into scheels or dicks spo...\n",
              "Name: content, Length: 926, dtype: object"
            ]
          },
          "execution_count": 4,
          "metadata": {},
          "output_type": "execute_result"
        }
      ],
      "source": [
        "reddit_df['content']"
      ]
    },
    {
      "cell_type": "code",
      "execution_count": 5,
      "metadata": {
        "colab": {
          "base_uri": "https://localhost:8080/",
          "height": 206
        },
        "id": "d5eMARPhmnEf",
        "outputId": "550478cb-391a-4582-d506-90f382ae9db1"
      },
      "outputs": [
        {
          "data": {
            "text/html": [
              "<div>\n",
              "<style scoped>\n",
              "    .dataframe tbody tr th:only-of-type {\n",
              "        vertical-align: middle;\n",
              "    }\n",
              "\n",
              "    .dataframe tbody tr th {\n",
              "        vertical-align: top;\n",
              "    }\n",
              "\n",
              "    .dataframe thead th {\n",
              "        text-align: right;\n",
              "    }\n",
              "</style>\n",
              "<table border=\"1\" class=\"dataframe\">\n",
              "  <thead>\n",
              "    <tr style=\"text-align: right;\">\n",
              "      <th></th>\n",
              "      <th>title</th>\n",
              "      <th>upvotes</th>\n",
              "      <th>created</th>\n",
              "      <th>num_comments</th>\n",
              "      <th>content</th>\n",
              "      <th>Text</th>\n",
              "    </tr>\n",
              "  </thead>\n",
              "  <tbody>\n",
              "    <tr>\n",
              "      <th>0</th>\n",
              "      <td>r/Stocks Weekly Thread on Meme Stocks Saturday...</td>\n",
              "      <td>1</td>\n",
              "      <td>2024-09-28</td>\n",
              "      <td>0</td>\n",
              "      <td>The meme stock scheduled posts will now run we...</td>\n",
              "      <td>r/Stocks Weekly Thread on Meme Stocks Saturday...</td>\n",
              "    </tr>\n",
              "    <tr>\n",
              "      <th>1</th>\n",
              "      <td>What are the best stock ownership perks?</td>\n",
              "      <td>18</td>\n",
              "      <td>2024-09-28</td>\n",
              "      <td>43</td>\n",
              "      <td>Many companies offer product perks to owners o...</td>\n",
              "      <td>What are the best stock ownership perks? Many ...</td>\n",
              "    </tr>\n",
              "    <tr>\n",
              "      <th>2</th>\n",
              "      <td>Evolution AB: What am I missing?</td>\n",
              "      <td>9</td>\n",
              "      <td>2024-09-28</td>\n",
              "      <td>6</td>\n",
              "      <td>Evolution AB (EVVTY) is a leading player in th...</td>\n",
              "      <td>Evolution AB: What am I missing? Evolution AB ...</td>\n",
              "    </tr>\n",
              "    <tr>\n",
              "      <th>3</th>\n",
              "      <td>My own Portfolio (critiques accepted) and why ...</td>\n",
              "      <td>30</td>\n",
              "      <td>2024-09-28</td>\n",
              "      <td>73</td>\n",
              "      <td>Amazon 18%   \\n  \\nI really believe it´s unmat...</td>\n",
              "      <td>My own Portfolio (critiques accepted) and why ...</td>\n",
              "    </tr>\n",
              "    <tr>\n",
              "      <th>4</th>\n",
              "      <td>/r/Stocks Weekend Discussion Saturday - Sep 28...</td>\n",
              "      <td>7</td>\n",
              "      <td>2024-09-28</td>\n",
              "      <td>11</td>\n",
              "      <td>This is the weekend edition of our stickied di...</td>\n",
              "      <td>/r/Stocks Weekend Discussion Saturday - Sep 28...</td>\n",
              "    </tr>\n",
              "  </tbody>\n",
              "</table>\n",
              "</div>"
            ],
            "text/plain": [
              "                                               title  upvotes     created  \\\n",
              "0  r/Stocks Weekly Thread on Meme Stocks Saturday...        1  2024-09-28   \n",
              "1           What are the best stock ownership perks?       18  2024-09-28   \n",
              "2                   Evolution AB: What am I missing?        9  2024-09-28   \n",
              "3  My own Portfolio (critiques accepted) and why ...       30  2024-09-28   \n",
              "4  /r/Stocks Weekend Discussion Saturday - Sep 28...        7  2024-09-28   \n",
              "\n",
              "   num_comments                                            content  \\\n",
              "0             0  The meme stock scheduled posts will now run we...   \n",
              "1            43  Many companies offer product perks to owners o...   \n",
              "2             6  Evolution AB (EVVTY) is a leading player in th...   \n",
              "3            73  Amazon 18%   \\n  \\nI really believe it´s unmat...   \n",
              "4            11  This is the weekend edition of our stickied di...   \n",
              "\n",
              "                                                Text  \n",
              "0  r/Stocks Weekly Thread on Meme Stocks Saturday...  \n",
              "1  What are the best stock ownership perks? Many ...  \n",
              "2  Evolution AB: What am I missing? Evolution AB ...  \n",
              "3  My own Portfolio (critiques accepted) and why ...  \n",
              "4  /r/Stocks Weekend Discussion Saturday - Sep 28...  "
            ]
          },
          "execution_count": 5,
          "metadata": {},
          "output_type": "execute_result"
        }
      ],
      "source": [
        "reddit_df['Text'] = reddit_df['title'] + ' ' + reddit_df['content']\n",
        "reddit_df.head()"
      ]
    },
    {
      "cell_type": "code",
      "execution_count": 6,
      "metadata": {},
      "outputs": [
        {
          "data": {
            "text/html": [
              "<div>\n",
              "<style scoped>\n",
              "    .dataframe tbody tr th:only-of-type {\n",
              "        vertical-align: middle;\n",
              "    }\n",
              "\n",
              "    .dataframe tbody tr th {\n",
              "        vertical-align: top;\n",
              "    }\n",
              "\n",
              "    .dataframe thead th {\n",
              "        text-align: right;\n",
              "    }\n",
              "</style>\n",
              "<table border=\"1\" class=\"dataframe\">\n",
              "  <thead>\n",
              "    <tr style=\"text-align: right;\">\n",
              "      <th></th>\n",
              "      <th>upvotes</th>\n",
              "      <th>created</th>\n",
              "      <th>num_comments</th>\n",
              "      <th>Text</th>\n",
              "    </tr>\n",
              "  </thead>\n",
              "  <tbody>\n",
              "    <tr>\n",
              "      <th>0</th>\n",
              "      <td>1</td>\n",
              "      <td>2024-09-28</td>\n",
              "      <td>0</td>\n",
              "      <td>r/Stocks Weekly Thread on Meme Stocks Saturday...</td>\n",
              "    </tr>\n",
              "    <tr>\n",
              "      <th>1</th>\n",
              "      <td>18</td>\n",
              "      <td>2024-09-28</td>\n",
              "      <td>43</td>\n",
              "      <td>What are the best stock ownership perks? Many ...</td>\n",
              "    </tr>\n",
              "    <tr>\n",
              "      <th>2</th>\n",
              "      <td>9</td>\n",
              "      <td>2024-09-28</td>\n",
              "      <td>6</td>\n",
              "      <td>Evolution AB: What am I missing? Evolution AB ...</td>\n",
              "    </tr>\n",
              "    <tr>\n",
              "      <th>3</th>\n",
              "      <td>30</td>\n",
              "      <td>2024-09-28</td>\n",
              "      <td>73</td>\n",
              "      <td>My own Portfolio (critiques accepted) and why ...</td>\n",
              "    </tr>\n",
              "    <tr>\n",
              "      <th>4</th>\n",
              "      <td>7</td>\n",
              "      <td>2024-09-28</td>\n",
              "      <td>11</td>\n",
              "      <td>/r/Stocks Weekend Discussion Saturday - Sep 28...</td>\n",
              "    </tr>\n",
              "  </tbody>\n",
              "</table>\n",
              "</div>"
            ],
            "text/plain": [
              "   upvotes     created  num_comments  \\\n",
              "0        1  2024-09-28             0   \n",
              "1       18  2024-09-28            43   \n",
              "2        9  2024-09-28             6   \n",
              "3       30  2024-09-28            73   \n",
              "4        7  2024-09-28            11   \n",
              "\n",
              "                                                Text  \n",
              "0  r/Stocks Weekly Thread on Meme Stocks Saturday...  \n",
              "1  What are the best stock ownership perks? Many ...  \n",
              "2  Evolution AB: What am I missing? Evolution AB ...  \n",
              "3  My own Portfolio (critiques accepted) and why ...  \n",
              "4  /r/Stocks Weekend Discussion Saturday - Sep 28...  "
            ]
          },
          "execution_count": 6,
          "metadata": {},
          "output_type": "execute_result"
        }
      ],
      "source": [
        "reddit_df.drop(['title', 'content'], axis=1, inplace=True)\n",
        "reddit_df.head()"
      ]
    },
    {
      "cell_type": "code",
      "execution_count": 7,
      "metadata": {},
      "outputs": [],
      "source": [
        "reddit_df.to_csv('E:\\Git_Files\\Data\\Reddit_data.csv', index=False)"
      ]
    }
  ],
  "metadata": {
    "colab": {
      "provenance": []
    },
    "kernelspec": {
      "display_name": "Python 3",
      "name": "python3"
    },
    "language_info": {
      "codemirror_mode": {
        "name": "ipython",
        "version": 3
      },
      "file_extension": ".py",
      "mimetype": "text/x-python",
      "name": "python",
      "nbconvert_exporter": "python",
      "pygments_lexer": "ipython3",
      "version": "3.8.19"
    }
  },
  "nbformat": 4,
  "nbformat_minor": 0
}
